{
 "cells": [
  {
   "cell_type": "code",
   "execution_count": 1,
   "metadata": {},
   "outputs": [],
   "source": [
    "'''\n",
    "%time: Time the execution of a single statement\n",
    "%timeit: Time repeated execution of a single statement for more accuracy\n",
    "%prun: Run code with the profiler\n",
    "%lprun: Run code with the line-by-line profiler\n",
    "%memit: Measure the memory use of a single statement\n",
    "%mprun: Run code with the line-by-line memory profiler\n",
    "\n",
    "https://jakevdp.github.io/PythonDataScienceHandbook/01.07-timing-and-profiling.html\n",
    "'''\n",
    "\n",
    "\n",
    "#%%file matmult.py\n",
    "def testMatmult(N):\n",
    "    # Program to multiply two matrices using nested loops\n",
    "    import random\n",
    "\n",
    "    # N = 250\n",
    "\n",
    "    # NxN matrix\n",
    "    X = []\n",
    "    for i in range(N):\n",
    "        X.append([random.randint(0,100) for r in range(N)])\n",
    "\n",
    "    # Nx(N+1) matrix\n",
    "    Y = []\n",
    "    for i in range(N):\n",
    "        Y.append([random.randint(0,100) for r in range(N+1)])\n",
    "\n",
    "    # result is Nx(N+1)\n",
    "    result = []\n",
    "    for i in range(N):\n",
    "        result.append([0] * (N+1))\n",
    "\n",
    "    # iterate through rows of X\n",
    "    for i in range(len(X)):\n",
    "        # iterate through columns of Y\n",
    "        for j in range(len(Y[0])):\n",
    "            # iterate through rows of Y\n",
    "            for k in range(len(Y)):\n",
    "                result[i][j] += X[i][k] * Y[k][j]\n",
    "\n",
    "    for r in result:\n",
    "        #print(r)\n",
    "        None\n"
   ]
  },
  {
   "cell_type": "code",
   "execution_count": 2,
   "metadata": {},
   "outputs": [],
   "source": [
    "%load_ext memory_profiler"
   ]
  },
  {
   "cell_type": "code",
   "execution_count": 3,
   "metadata": {},
   "outputs": [],
   "source": [
    "%load_ext line_profiler"
   ]
  },
  {
   "cell_type": "code",
   "execution_count": 4,
   "metadata": {},
   "outputs": [
    {
     "name": "stdout",
     "output_type": "stream",
     "text": [
      "Timer unit: 1e-07 s\n",
      "\n",
      "Total time: 21.7407 s\n",
      "File: C:\\Users\\jinxu785\\AppData\\Local\\Temp/ipykernel_1164/1352709857.py\n",
      "Function: testMatmult at line 14\n",
      "\n",
      "Line #      Hits         Time  Per Hit   % Time  Line Contents\n",
      "==============================================================\n",
      "    14                                           def testMatmult(N):\n",
      "    15                                               # Program to multiply two matrices using nested loops\n",
      "    16         1         49.0     49.0      0.0      import random\n",
      "    17                                           \n",
      "    18                                               # N = 250\n",
      "    19                                           \n",
      "    20                                               # NxN matrix\n",
      "    21         1          8.0      8.0      0.0      X = []\n",
      "    22       251       3610.0     14.4      0.0      for i in range(N):\n",
      "    23       250    2185020.0   8740.1      1.0          X.append([random.randint(0,100) for r in range(N)])\n",
      "    24                                           \n",
      "    25                                               # Nx(N+1) matrix\n",
      "    26         1          5.0      5.0      0.0      Y = []\n",
      "    27       251       2316.0      9.2      0.0      for i in range(N):\n",
      "    28       250    1926526.0   7706.1      0.9          Y.append([random.randint(0,100) for r in range(N+1)])\n",
      "    29                                           \n",
      "    30                                               # result is Nx(N+1)\n",
      "    31         1         24.0     24.0      0.0      result = []\n",
      "    32       251       1680.0      6.7      0.0      for i in range(N):\n",
      "    33       250       8742.0     35.0      0.0          result.append([0] * (N+1))\n",
      "    34                                           \n",
      "    35                                               # iterate through rows of X\n",
      "    36       251       2281.0      9.1      0.0      for i in range(len(X)):\n",
      "    37                                                   # iterate through columns of Y\n",
      "    38     63000     346693.0      5.5      0.2          for j in range(len(Y[0])):\n",
      "    39                                                       # iterate through rows of Y\n",
      "    40  15750250   80953589.0      5.1     37.2              for k in range(len(Y)):\n",
      "    41  15687500  131974441.0      8.4     60.7                  result[i][j] += X[i][k] * Y[k][j]\n",
      "    42                                           \n",
      "    43       251       1124.0      4.5      0.0      for r in result:\n",
      "    44                                                   #print(r)\n",
      "    45       250       1055.0      4.2      0.0          None"
     ]
    }
   ],
   "source": [
    "%lprun -f testMatmult testMatmult(250)"
   ]
  },
  {
   "cell_type": "code",
   "execution_count": 5,
   "metadata": {},
   "outputs": [
    {
     "name": "stdout",
     "output_type": "stream",
     "text": [
      "ERROR: Could not find file C:\\Users\\jinxu785\\AppData\\Local\\Temp/ipykernel_1164/1352709857.py\n",
      "\n"
     ]
    },
    {
     "name": "stdout",
     "output_type": "stream",
     "text": []
    }
   ],
   "source": [
    "%mprun -f testMatmult testMatmult(250)"
   ]
  },
  {
   "cell_type": "code",
   "execution_count": 6,
   "metadata": {},
   "outputs": [
    {
     "name": "stdout",
     "output_type": "stream",
     "text": [
      " "
     ]
    },
    {
     "name": "stdout",
     "output_type": "stream",
     "text": [
      "         723912 function calls in 2.337 seconds\n",
      "\n",
      "   Ordered by: internal time\n",
      "\n",
      "   ncalls  tottime  percall  cumtime  percall filename:lineno(function)\n",
      "        1    2.139    2.139    2.336    2.336 1352709857.py:14(testMatmult)\n",
      "   125250    0.062    0.000    0.125    0.000 random.py:290(randrange)\n",
      "   125250    0.046    0.000    0.063    0.000 random.py:237(_randbelow_with_getrandbits)\n",
      "   125250    0.036    0.000    0.161    0.000 random.py:334(randint)\n",
      "      250    0.017    0.000    0.101    0.000 1352709857.py:23(<listcomp>)\n",
      "      250    0.015    0.000    0.093    0.000 1352709857.py:28(<listcomp>)\n",
      "   158657    0.010    0.000    0.010    0.000 {method 'getrandbits' of '_random.Random' objects}\n",
      "   125250    0.007    0.000    0.007    0.000 {method 'bit_length' of 'int' objects}\n",
      "    63001    0.003    0.000    0.003    0.000 {built-in method builtins.len}\n",
      "        1    0.001    0.001    2.337    2.337 <string>:1(<module>)\n",
      "      750    0.000    0.000    0.000    0.000 {method 'append' of 'list' objects}\n",
      "        1    0.000    0.000    2.337    2.337 {built-in method builtins.exec}\n",
      "        1    0.000    0.000    0.000    0.000 {method 'disable' of '_lsprof.Profiler' objects}"
     ]
    }
   ],
   "source": [
    "%prun testMatmult(250)"
   ]
  }
 ],
 "metadata": {
  "interpreter": {
   "hash": "f87d207386b62e01d2c65b4c812dc55f8b6336dd5e654ab067f6753cabe13bb1"
  },
  "kernelspec": {
   "display_name": "Python 3.9.7 ('base')",
   "language": "python",
   "name": "python3"
  },
  "language_info": {
   "codemirror_mode": {
    "name": "ipython",
    "version": 3
   },
   "file_extension": ".py",
   "mimetype": "text/x-python",
   "name": "python",
   "nbconvert_exporter": "python",
   "pygments_lexer": "ipython3",
   "version": "3.9.7"
  },
  "orig_nbformat": 4
 },
 "nbformat": 4,
 "nbformat_minor": 2
}
