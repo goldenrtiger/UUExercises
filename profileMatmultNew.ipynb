{
 "cells": [
  {
   "cell_type": "code",
   "execution_count": 10,
   "metadata": {},
   "outputs": [],
   "source": [
    "'''\n",
    "%time: Time the execution of a single statement\n",
    "%timeit: Time repeated execution of a single statement for more accuracy\n",
    "%prun: Run code with the profiler\n",
    "%lprun: Run code with the line-by-line profiler\n",
    "%memit: Measure the memory use of a single statement\n",
    "%mprun: Run code with the line-by-line memory profiler\n",
    "\n",
    "https://jakevdp.github.io/PythonDataScienceHandbook/01.07-timing-and-profiling.html\n",
    "'''\n",
    "import numpy as np\n",
    "\n",
    "#%%file matmult.py\n",
    "def testMatmult(N):\n",
    "    # Program to multiply two matrices using nested loops\n",
    "    import random ##\n",
    "\n",
    "    # N = 250\n",
    "\n",
    "    # NxN matrix\n",
    "    X = []\n",
    "    # X = np.array()\n",
    "    for i in range(N):\n",
    "        X.append([random.randint(0,100) for r in range(N)])\n",
    "        # np.append(X, [random.randint(0,100) for r in range(N)], axis=0)\n",
    "    \n",
    "    # Nx(N+1) matrix\n",
    "    Y = []\n",
    "    # Y = np.empty((N, N + 1))\n",
    "    for i in range(N):\n",
    "        Y.append([random.randint(0,100) for r in range(N+1)])\n",
    "        # np.append(Y, [random.randint(0,100) for r in range(N+1)], axis=0)\n",
    "    '''\n",
    "    # result is Nx(N+1)\n",
    "    result = \n",
    "    for i in range(N):\n",
    "        result.append([0] * (N+1))\n",
    "\n",
    "    # iterate through rows of X\n",
    "    for i in range(len(X)):\n",
    "        # iterate through columns of Y\n",
    "        for j in range(len(Y[0])):\n",
    "            # iterate through rows of Y\n",
    "            for k in range(len(Y)):\n",
    "                result[i][j] += X[i][k] * Y[k][j]\n",
    "\n",
    "    for r in result:\n",
    "        #print(r)\n",
    "        None\n",
    "    '''\n",
    "\n",
    "# testMatmult(250)\n"
   ]
  },
  {
   "cell_type": "code",
   "execution_count": 11,
   "metadata": {},
   "outputs": [
    {
     "name": "stdout",
     "output_type": "stream",
     "text": [
      "The memory_profiler extension is already loaded. To reload it, use:\n",
      "  %reload_ext memory_profiler\n"
     ]
    }
   ],
   "source": [
    "%load_ext memory_profiler"
   ]
  },
  {
   "cell_type": "code",
   "execution_count": 12,
   "metadata": {},
   "outputs": [
    {
     "name": "stdout",
     "output_type": "stream",
     "text": [
      "The line_profiler extension is already loaded. To reload it, use:\n",
      "  %reload_ext line_profiler\n"
     ]
    }
   ],
   "source": [
    "%load_ext line_profiler"
   ]
  },
  {
   "cell_type": "code",
   "execution_count": 13,
   "metadata": {},
   "outputs": [
    {
     "name": "stdout",
     "output_type": "stream",
     "text": [
      "Timer unit: 1e-07 s\n",
      "\n",
      "Total time: 0.360116 s\n",
      "File: C:\\Users\\jinxu785\\AppData\\Local\\Temp/ipykernel_19324/2180096551.py\n",
      "Function: testMatmult at line 14\n",
      "\n",
      "Line #      Hits         Time  Per Hit   % Time  Line Contents\n",
      "==============================================================\n",
      "    14                                           def testMatmult(N):\n",
      "    15                                               # Program to multiply two matrices using nested loops\n",
      "    16         1         33.0     33.0      0.0      import random ##\n",
      "    17                                           \n",
      "    18                                               # N = 250\n",
      "    19                                           \n",
      "    20                                               # NxN matrix\n",
      "    21         1         10.0     10.0      0.0      X = []\n",
      "    22                                               # X = np.array()\n",
      "    23       251       2842.0     11.3      0.1      for i in range(N):\n",
      "    24       250    1845369.0   7381.5     51.2          X.append([random.randint(0,100) for r in range(N)])\n",
      "    25                                                   # np.append(X, [random.randint(0,100) for r in range(N)], axis=0)\n",
      "    26                                               \n",
      "    27                                               # Nx(N+1) matrix\n",
      "    28         1          5.0      5.0      0.0      Y = []\n",
      "    29                                               # Y = np.empty((N, N + 1))\n",
      "    30       251       1997.0      8.0      0.1      for i in range(N):\n",
      "    31       250    1750901.0   7003.6     48.6          Y.append([random.randint(0,100) for r in range(N+1)])\n",
      "    32                                                   # np.append(Y, [random.randint(0,100) for r in range(N+1)], axis=0)\n",
      "    33         1          5.0      5.0      0.0      '''\n",
      "    34                                               # result is Nx(N+1)\n",
      "    35                                               result = \n",
      "    36                                               for i in range(N):\n",
      "    37                                                   result.append([0] * (N+1))\n",
      "    38                                           \n",
      "    39                                               # iterate through rows of X\n",
      "    40                                               for i in range(len(X)):\n",
      "    41                                                   # iterate through columns of Y\n",
      "    42                                                   for j in range(len(Y[0])):\n",
      "    43                                                       # iterate through rows of Y\n",
      "    44                                                       for k in range(len(Y)):\n",
      "    45                                                           result[i][j] += X[i][k] * Y[k][j]\n",
      "    46                                           \n",
      "    47                                               for r in result:\n",
      "    48                                                   #print(r)\n",
      "    49                                                   None\n",
      "    50                                               '''"
     ]
    }
   ],
   "source": [
    "%lprun -f testMatmult testMatmult(250)"
   ]
  },
  {
   "cell_type": "code",
   "execution_count": 14,
   "metadata": {},
   "outputs": [
    {
     "name": "stdout",
     "output_type": "stream",
     "text": [
      "ERROR: Could not find file C:\\Users\\jinxu785\\AppData\\Local\\Temp/ipykernel_19324/2180096551.py\n",
      "\n"
     ]
    },
    {
     "name": "stdout",
     "output_type": "stream",
     "text": []
    }
   ],
   "source": [
    "%mprun -f testMatmult testMatmult(250)"
   ]
  },
  {
   "cell_type": "code",
   "execution_count": 15,
   "metadata": {},
   "outputs": [
    {
     "name": "stdout",
     "output_type": "stream",
     "text": [
      " "
     ]
    },
    {
     "name": "stdout",
     "output_type": "stream",
     "text": [
      "         660857 function calls in 0.182 seconds\n",
      "\n",
      "   Ordered by: internal time\n",
      "\n",
      "   ncalls  tottime  percall  cumtime  percall filename:lineno(function)\n",
      "   125250    0.059    0.000    0.117    0.000 random.py:290(randrange)\n",
      "   125250    0.043    0.000    0.058    0.000 random.py:237(_randbelow_with_getrandbits)\n",
      "   125250    0.034    0.000    0.152    0.000 random.py:334(randint)\n",
      "      250    0.015    0.000    0.091    0.000 2180096551.py:31(<listcomp>)\n",
      "      250    0.015    0.000    0.090    0.000 2180096551.py:24(<listcomp>)\n",
      "   158853    0.009    0.000    0.009    0.000 {method 'getrandbits' of '_random.Random' objects}\n",
      "   125250    0.006    0.000    0.006    0.000 {method 'bit_length' of 'int' objects}\n",
      "        1    0.001    0.001    0.182    0.182 2180096551.py:14(testMatmult)\n",
      "        1    0.000    0.000    0.182    0.182 <string>:1(<module>)\n",
      "      500    0.000    0.000    0.000    0.000 {method 'append' of 'list' objects}\n",
      "        1    0.000    0.000    0.182    0.182 {built-in method builtins.exec}\n",
      "        1    0.000    0.000    0.000    0.000 {method 'disable' of '_lsprof.Profiler' objects}"
     ]
    }
   ],
   "source": [
    "%prun testMatmult(250)"
   ]
  }
 ],
 "metadata": {
  "interpreter": {
   "hash": "f87d207386b62e01d2c65b4c812dc55f8b6336dd5e654ab067f6753cabe13bb1"
  },
  "kernelspec": {
   "display_name": "Python 3.9.7 ('base')",
   "language": "python",
   "name": "python3"
  },
  "language_info": {
   "codemirror_mode": {
    "name": "ipython",
    "version": 3
   },
   "file_extension": ".py",
   "mimetype": "text/x-python",
   "name": "python",
   "nbconvert_exporter": "python",
   "pygments_lexer": "ipython3",
   "version": "3.9.7"
  },
  "orig_nbformat": 4
 },
 "nbformat": 4,
 "nbformat_minor": 2
}
